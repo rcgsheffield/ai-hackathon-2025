{
 "cells": [
  {
   "cell_type": "markdown",
   "id": "87373b7c",
   "metadata": {},
   "source": [
    "# Topdesk triage system\n",
    "\n",
    "TODOs:\n",
    "\n",
    "- Setup an Gemini agent\n",
    "- Process synthetic data\n",
    "- Setup a vector database\n",
    "- Create a retrieval-augmented generation (RAG) pipeline\n",
    "- Query which team a ticket should be routed to\n",
    "- Retrieve caller information\n",
    "- Final Response"
   ]
  },
  {
   "cell_type": "code",
   "execution_count": 4,
   "id": "0c7d9a99",
   "metadata": {},
   "outputs": [
    {
     "data": {
      "text/plain": [
       "True"
      ]
     },
     "execution_count": 4,
     "metadata": {},
     "output_type": "execute_result"
    }
   ],
   "source": [
    "from dotenv import load_dotenv\n",
    "\n",
    "load_dotenv(\"./.env\")  # Load environment variables from .env file"
   ]
  },
  {
   "cell_type": "code",
   "execution_count": 8,
   "id": "b8af972a",
   "metadata": {},
   "outputs": [
    {
     "name": "stdout",
     "output_type": "stream",
     "text": [
      "content='Hello! Nice to meet you. How are you doing today? Is there anything I can help you with?' additional_kwargs={} response_metadata={'id': 'msg_01V8kn1o3YED6Mrh8D9CUzj6', 'model': 'claude-sonnet-4-20250514', 'stop_reason': 'end_turn', 'stop_sequence': None, 'usage': {'cache_creation': {'ephemeral_1h_input_tokens': 0, 'ephemeral_5m_input_tokens': 0}, 'cache_creation_input_tokens': 0, 'cache_read_input_tokens': 0, 'input_tokens': 9, 'output_tokens': 25, 'server_tool_use': None, 'service_tier': 'standard'}, 'model_name': 'claude-sonnet-4-20250514'} id='run--c7354a41-acfa-48fa-9b9c-0896d12b1410-0' usage_metadata={'input_tokens': 9, 'output_tokens': 25, 'total_tokens': 34, 'input_token_details': {'cache_read': 0, 'cache_creation': 0, 'ephemeral_5m_input_tokens': 0, 'ephemeral_1h_input_tokens': 0}}\n"
     ]
    }
   ],
   "source": [
    "# Setup agent\n",
    "from langchain.chat_models.base import init_chat_model\n",
    "\n",
    "# Configure llm provider\n",
    "llm = init_chat_model(model=\"claude-sonnet-4-20250514\", model_provider=\"anthropic\")\n",
    "\n",
    "response = llm.invoke(\"hello world\")\n",
    "print(response)"
   ]
  }
 ],
 "metadata": {
  "kernelspec": {
   "display_name": "topdesk-triage-system",
   "language": "python",
   "name": "python3"
  },
  "language_info": {
   "codemirror_mode": {
    "name": "ipython",
    "version": 3
   },
   "file_extension": ".py",
   "mimetype": "text/x-python",
   "name": "python",
   "nbconvert_exporter": "python",
   "pygments_lexer": "ipython3",
   "version": "3.13.3"
  }
 },
 "nbformat": 4,
 "nbformat_minor": 5
}
