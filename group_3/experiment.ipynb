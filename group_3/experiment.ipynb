{
 "cells": [
  {
   "cell_type": "markdown",
   "id": "87373b7c",
   "metadata": {},
   "source": [
    "# Topdesk triage system\n",
    "\n",
    "TODOs:\n",
    "\n",
    "- Setup an Gemini agent\n",
    "- Process synthetic data\n",
    "- Setup a vector database\n",
    "- Create a retrieval-augmented generation (RAG) pipeline\n",
    "- Query which team a ticket should be routed to\n",
    "- Retrieve caller information\n",
    "- Final Response"
   ]
  },
  {
   "cell_type": "code",
   "execution_count": 4,
   "id": "0c7d9a99",
   "metadata": {},
   "outputs": [
    {
     "data": {
      "text/plain": [
       "True"
      ]
     },
     "execution_count": 4,
     "metadata": {},
     "output_type": "execute_result"
    }
   ],
   "source": [
    "from dotenv import load_dotenv\n",
    "\n",
    "load_dotenv(\"./.env\")  # Load environment variables from .env file"
   ]
  },
  {
   "cell_type": "code",
   "execution_count": null,
   "id": "b8af972a",
   "metadata": {},
   "outputs": [
    {
     "name": "stdout",
     "output_type": "stream",
     "text": [
      "content='Hello! Nice to meet you. How are you doing today? Is there anything I can help you with?' additional_kwargs={} response_metadata={'id': 'msg_01V8kn1o3YED6Mrh8D9CUzj6', 'model': 'claude-sonnet-4-20250514', 'stop_reason': 'end_turn', 'stop_sequence': None, 'usage': {'cache_creation': {'ephemeral_1h_input_tokens': 0, 'ephemeral_5m_input_tokens': 0}, 'cache_creation_input_tokens': 0, 'cache_read_input_tokens': 0, 'input_tokens': 9, 'output_tokens': 25, 'server_tool_use': None, 'service_tier': 'standard'}, 'model_name': 'claude-sonnet-4-20250514'} id='run--c7354a41-acfa-48fa-9b9c-0896d12b1410-0' usage_metadata={'input_tokens': 9, 'output_tokens': 25, 'total_tokens': 34, 'input_token_details': {'cache_read': 0, 'cache_creation': 0, 'ephemeral_5m_input_tokens': 0, 'ephemeral_1h_input_tokens': 0}}\n"
     ]
    }
   ],
   "source": [
    "# Setup agent\n",
    "from langchain.chat_models.base import init_chat_model\n",
    "\n",
    "# Configure llm provider\n",
    "llm = init_chat_model(model=\"claude-sonnet-4-20250514\", model_provider=\"anthropic\")\n",
    "\n",
    "test = llm.invoke(\"hello world\")\n",
    "print(test)"
   ]
  },
  {
   "cell_type": "code",
   "execution_count": 14,
   "id": "67305bb6",
   "metadata": {},
   "outputs": [
    {
     "name": "stdout",
     "output_type": "stream",
     "text": [
      "Document: Issue: JupyterHub not accessible - RStudio Server | Description: Support Team, I can't access JupyterHub at https://jupyter.cluster.university.ac.uk Error message: \"Segmentation fault\" I was working on an important notebook yesterday for my empower rich technologies analysis. The notebook contains several hours of work processing survey responses. Is the service down? When will it be restored? I need to complete this analysis by 2025-07-28 for a project meeting. Lori Torres Psychology | User Request: 24-07-2025 14:44 [Lori Torres]: Our Psychology research requires assistance with rstudio server. | Category: Collaboration Tools | Subcategory: RStudio Server | Software: R/RStudio | Department: Psychology | Research Area: High Energy Physics\n",
      "\n",
      "Document: Issue: Git repository setup needed - RStudio Server | Description: Research Computing, I'm trying to share a Jupyter notebook with my collaborators but having issues. The notebook analyses experimental measurements and needs access to: - Cluster storage at /research/fight_data/ - GROMACS modules - About 17GB RAM How can multiple people work on this simultaneously? We're in different time zones so need asynchronous collaboration. Is there a shared notebook server option? Rhonda Santiago PhD Student, Computer Science | User Request: 24-07-2025 14:39 [Rhonda Santiago]: I'm analyzing successful data and encountering problems with rstudio server. | Category: Collaboration Tools | Subcategory: RStudio Server | Software: nan | Department: Computer Science | Research Area: Bioinformatics\n",
      "\n",
      "Document: Issue: Python environment not working - R Packages | Description: Support Team, I'm getting MATLAB license errors when trying to run jobs on the cluster: \"License checkout failed for your_Toolbox\" This is blocking my research on engage synergistic communities. The jobs were working fine until this week. My SLURM script: ``` #!/bin/bash #SBATCH --job-name=seek_job #SBATCH --time=12:00:00 #SBATCH --mem=32G module load matlab matlab -batch \"run_analysis('economy')\" ``` Can you check the license server status? Kelly Hayden Research Assistant | User Request: 24-07-2025 14:42 [Kelly Hayden]: I'm working on a secured tertiary customer loyalty project and need help with r packages. | Category: Software & Applications | Subcategory: R Packages | Software: nan | Department: Engineering | Research Area: Digital Humanities\n",
      "\n",
      "Document: Issue: Docker container won't run - MATLAB Toolboxes | Description: Hello, I need help installing R/RStudio on the cluster for my research group. We need this for our transform global users project. The software requires: - GPU support - License: Commercial - we have license I tried installing it myself but got: \"Authentication failed\" Could you please install this system-wide or help me with a local installation? Timeline: We need this working by 2025-07-24 for our paper submission. Thanks, Mark Rivera | User Request: 24-07-2025 14:41 [Mark Rivera]: I'm analyzing first data and encountering problems with matlab toolboxes. | Category: Software & Applications | Subcategory: MATLAB Toolboxes | Software: nan | Department: Linguistics | Research Area: Bioinformatics\n",
      "\n",
      "Document: Issue: Cannot load required software module | Description: Support Team, I'm getting MATLAB license errors when trying to run jobs on the cluster: \"License checkout failed for fine_Toolbox\" This is blocking my research on envisioneer holistic initiatives. The jobs were working fine until this week. My SLURM script: ``` #!/bin/bash #SBATCH --job-name=area_job #SBATCH --time=12:00:00 #SBATCH --mem=32G module load matlab matlab -batch \"run_analysis('issue')\" ``` Can you check the license server status? Brittany Anderson Professor | User Request: 24-07-2025 14:44 [Brittany Anderson]: I'm a professor working on synergize dot-com networks and need support with r packages. | Category: Software & Applications | Subcategory: R Packages | Software: Stata | Department: Linguistics | Research Area: Social Science Analytics\n",
      "\n"
     ]
    }
   ],
   "source": [
    "from langchain_chroma import Chroma\n",
    "from langchain_community.embeddings import SentenceTransformerEmbeddings\n",
    "\n",
    "embeddings = SentenceTransformerEmbeddings(model_name=\"all-MiniLM-L6-v2\")\n",
    "vectorstore = Chroma(\n",
    "    collection_name=\"topdesk_incidents\",\n",
    "    embedding_function=embeddings,\n",
    "    persist_directory=\"./topdesk_vectordb\"\n",
    ")\n",
    "\n",
    "# Search for similar support tickets\n",
    "docs = vectorstore.similarity_search(\"RStudio server not working\", k=5)\n",
    "\n",
    "# print docs in readable format\n",
    "for doc in docs:\n",
    "    print(f\"Document: {doc.page_content}\\n\")"
   ]
  }
 ],
 "metadata": {
  "kernelspec": {
   "display_name": "topdesk-triage-system",
   "language": "python",
   "name": "python3"
  },
  "language_info": {
   "codemirror_mode": {
    "name": "ipython",
    "version": 3
   },
   "file_extension": ".py",
   "mimetype": "text/x-python",
   "name": "python",
   "nbconvert_exporter": "python",
   "pygments_lexer": "ipython3",
   "version": "3.13.3"
  }
 },
 "nbformat": 4,
 "nbformat_minor": 5
}
